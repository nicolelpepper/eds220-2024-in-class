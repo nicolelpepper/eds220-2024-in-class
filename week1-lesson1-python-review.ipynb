{
 "cells": [
  {
   "cell_type": "markdown",
   "id": "5573aca3-cd02-4341-a604-4a60bb221087",
   "metadata": {},
   "source": [
    "# Python review\n",
    "\n",
    "Short review about some core conepts in Python exemplified by objects in the Numpy library\n",
    "\n",
    "Goals: \n",
    "- recap basic Python vocab\n",
    "- practice markdown syntax\n",
    "\n",
    "## Libraries and packages:\n",
    "\n",
    "**library:** is a collection of code that we can use to perform specific tasks in our programs. It can be a single file or multiple files.\n",
    "\n",
    "**NumPy:** \n",
    "- core library for numerical computing in Python\n",
    "- many of the libraries use NumPy arrays as their building blocks\n",
    "- computations on NumPy objects are optimized for speed and memory usage\n",
    "\n",
    "\n",
    "Let's import NumPy with its **standard abbreviation** `np`:\n",
    "import numpy as np\n",
    "\n",
    "(esc + press M twice --> convert code cell to markdown)\n",
    "\n",
    "## Variables \n",
    "** variable:** a name we "
   ]
  },
  {
   "cell_type": "code",
   "execution_count": null,
   "id": "e4c6597b-de60-42c7-b776-246cd76b8301",
   "metadata": {},
   "outputs": [],
   "source": []
  },
  {
   "cell_type": "code",
   "execution_count": 1,
   "id": "a09f67d4-4373-49cb-b72b-e4059e6ca5db",
   "metadata": {
    "tags": []
   },
   "outputs": [],
   "source": [
    "import numpy as np\n",
    "\n",
    "# Assign a small array to a variable \n",
    "a = np.array([ [1,1,2], [3,5,8] ])"
   ]
  },
  {
   "cell_type": "markdown",
   "id": "d1a91557-38cb-4081-8d8c-253b8cf6e824",
   "metadata": {},
   "source": [
    "To view a variables value from our Jupyter notebook:"
   ]
  },
  {
   "cell_type": "code",
   "execution_count": 2,
   "id": "1b75e81a-4c59-406d-aeee-d1e2f95102c7",
   "metadata": {
    "tags": []
   },
   "outputs": [
    {
     "data": {
      "text/plain": [
       "array([[1, 1, 2],\n",
       "       [3, 5, 8]])"
      ]
     },
     "execution_count": 2,
     "metadata": {},
     "output_type": "execute_result"
    }
   ],
   "source": [
    "# Run a cell with variable name to show value\n",
    "a"
   ]
  },
  {
   "cell_type": "code",
   "execution_count": 3,
   "id": "d10dc055-db1a-464b-b653-9708a32d68b3",
   "metadata": {
    "tags": []
   },
   "outputs": [
    {
     "name": "stdout",
     "output_type": "stream",
     "text": [
      "[[1 1 2]\n",
      " [3 5 8]]\n"
     ]
    }
   ],
   "source": [
    "# Use `print` function to print the value\n",
    "print(a)"
   ]
  },
  {
   "cell_type": "markdown",
   "id": "a2c7d3ba-9958-40fe-b8b2-08c1863f52bb",
   "metadata": {},
   "source": [
    "## Naming convention: Use `snakecase` for naming variables\n",
    "\n",
    "This is the convention that we will use in the course.\n",
    "\n",
    "*Why?*  `my-variable` or `MyVariable` or `myVariable` are all valid ways to write variables however PEP 8 - Style Guide for Python code reccomends snake_case.\n",
    "\n",
    "**Remember that variable names should be both description and concise!** \n",
    "\n",
    "## Objects\n",
    "\n",
    "**object:** (informally) is a bundle of *properties* and *actions* about something specific.\n",
    "\n",
    "*Ex. \n",
    "Object: data frame [is the **thing** that you are referencing] \n",
    "Properties: number of rows, names of columns, and date created\n",
    "Actions: selecting a specific row or adding a new column*\n",
    "\n",
    "A variable is the name we give a specific object and the same object can be referenced by different variables. \n",
    "\n",
    "In practice, we can often use the word variable and object interchangeably.\n",
    "\n",
    "## Types\n",
    "\n",
    "Every object in Python has a **type**, the type tells us what kind of objects we have.\n",
    "We can also call the type of an object, the **class** of an object. So class and object both mean what kind of object we have."
   ]
  },
  {
   "cell_type": "code",
   "execution_count": 4,
   "id": "e1f1d5cb-88d3-4cf2-ada1-2111abd93e46",
   "metadata": {
    "tags": []
   },
   "outputs": [
    {
     "name": "stdout",
     "output_type": "stream",
     "text": [
      "[[1 1 2]\n",
      " [3 5 8]]\n"
     ]
    }
   ],
   "source": [
    "# print the array that we formerly made\n",
    "print(a)"
   ]
  },
  {
   "cell_type": "code",
   "execution_count": 5,
   "id": "b972cfbb-10d2-49e9-8de9-f2490cea03e9",
   "metadata": {
    "tags": []
   },
   "outputs": [
    {
     "data": {
      "text/plain": [
       "numpy.ndarray"
      ]
     },
     "execution_count": 5,
     "metadata": {},
     "output_type": "execute_result"
    }
   ],
   "source": [
    "# See the type/calss of a variable/object by using the `type` function\n",
    "# This is a common way to start troubleshooting - ie. use to make sure you know what type of data you are working with \n",
    "type(a)"
   ]
  },
  {
   "cell_type": "markdown",
   "id": "9949294a-442f-4e9c-b7ee-24cc2467dd7b",
   "metadata": {},
   "source": [
    "The numpy.ndarray is the core object/dat type of the NumPy package"
   ]
  },
  {
   "cell_type": "code",
   "execution_count": 6,
   "id": "9780484e-980a-475f-99b8-22a65e5759eb",
   "metadata": {
    "tags": []
   },
   "outputs": [
    {
     "name": "stdout",
     "output_type": "stream",
     "text": [
      "1\n"
     ]
    },
    {
     "data": {
      "text/plain": [
       "numpy.int64"
      ]
     },
     "execution_count": 6,
     "metadata": {},
     "output_type": "execute_result"
    }
   ],
   "source": [
    "print(a[0,0])\n",
    "type(a[0,0])"
   ]
  },
  {
   "cell_type": "markdown",
   "id": "c1b2fa90-f34e-4cd8-b73e-236f96a248c6",
   "metadata": {},
   "source": [
    "`numpy.int64` is not the standard Python integer tpe `int`.\n",
    "`numpy.int64` is a special data type in Numpy telling us that 1 is an integer stored as a 64-bit number"
   ]
  },
  {
   "cell_type": "markdown",
   "id": "ebfe8930-0d31-416a-b76d-62ed70f2ca17",
   "metadata": {},
   "source": [
    "Check-in: access the value 5 in array `a`"
   ]
  },
  {
   "cell_type": "code",
   "execution_count": 8,
   "id": "c3e28f49-c74c-4d1f-af79-8ed804dc5648",
   "metadata": {
    "tags": []
   },
   "outputs": [
    {
     "data": {
      "text/plain": [
       "5"
      ]
     },
     "execution_count": 8,
     "metadata": {},
     "output_type": "execute_result"
    }
   ],
   "source": [
    "a[1,1]  # remember that index starts with 0 for python"
   ]
  },
  {
   "cell_type": "markdown",
   "id": "3da190e1-1f41-4568-bbf1-51c91eaf81f7",
   "metadata": {},
   "source": [
    "## Functions\n",
    "\n",
    "`print` was our first example of a Python **function**\n",
    "\n",
    "Functions take in a set of **arguments**, separated by commas, and use those arguments to create an **output**.\n",
    "\n",
    "In this course we'll be using argument and parameter interchangeably, but they do have slightly different meanings.\n",
    "\n",
    "We can ask for info about what a function does by executing `?` followed by the function name: "
   ]
  },
  {
   "cell_type": "code",
   "execution_count": 9,
   "id": "8a2cf1b4-d121-45a6-9479-2f5b7788370e",
   "metadata": {
    "tags": []
   },
   "outputs": [
    {
     "data": {
      "text/plain": [
       "\u001b[0;31mDocstring:\u001b[0m\n",
       "print(value, ..., sep=' ', end='\\n', file=sys.stdout, flush=False)\n",
       "\n",
       "Prints the values to a stream, or to sys.stdout by default.\n",
       "Optional keyword arguments:\n",
       "file:  a file-like object (stream); defaults to the current sys.stdout.\n",
       "sep:   string inserted between values, default a space.\n",
       "end:   string appended after the last value, default a newline.\n",
       "flush: whether to forcibly flush the stream.\n",
       "\u001b[0;31mType:\u001b[0m      builtin_function_or_method\n"
      ]
     },
     "metadata": {},
     "output_type": "display_data"
    }
   ],
   "source": [
    "?print"
   ]
  },
  {
   "cell_type": "markdown",
   "id": "d1665787-aedc-4f4f-9455-2ef92fc63501",
   "metadata": {},
   "source": [
    "What we obtain is a **docstring** a special type of comment that is used to document how a function or a class or a module works\n",
    "Made up of:\n",
    "- name(all the parameters/aguments)\n",
    "- short description of what it does\n",
    "- list of parameters and what they do in the function\n",
    "\n",
    "Notice that there are different types of arguments inside the functions parenthesis\n",
    "Roughly speaking, a function has two types of arguments: \n",
    "\n",
    "- **non-operational arguments**: arguments *you* have to specifiy for the function to work\n",
    "- **optional arguments**: arguments that are pre-filled with a fegault value by the function,  but you can override them. *Optional arguments appear inside the parenthesis () in the form `optional_argument = default`*\n",
    "\n",
    "*Ex. \n",
    "`end` is a parameter in `print` with default value a new line\n",
    "We can pass the value `:-)` to this parameter so that it finishes the line with `:-)` instead:"
   ]
  },
  {
   "cell_type": "code",
   "execution_count": 12,
   "id": "35ff4397-3482-428f-9beb-e893160b9ec8",
   "metadata": {
    "tags": []
   },
   "outputs": [
    {
     "name": "stdout",
     "output_type": "stream",
     "text": [
      "Change the end parameter to :-)"
     ]
    }
   ],
   "source": [
    "print('Change the end parameter to', end=' :-)')"
   ]
  },
  {
   "cell_type": "markdown",
   "id": "f8ae220a-2b80-4e2c-b7cc-3e025c82ed08",
   "metadata": {},
   "source": [
    "## Attributes and methods\n",
    "\n",
    "An object in Python has attributes and methods.\n",
    "\n",
    "- **attribute**: a property of the object, some piece of information about it\n",
    "- **method**: a procedure associated with an object, so it is an action/function where the main ingredient is the object itself.\n",
    "\n",
    "## Check-in\n",
    "\n",
    "Make a diagram/concept for a class `fish`:\n",
    "\n",
    "Attributes:\n",
    "- Species\n",
    "- Color\n",
    "- Length\n",
    "- Weight\n",
    "\n",
    "Methods:\n",
    "- swim()\n",
    "- eat()\n",
    "- poop()\n",
    "- spawn()\n",
    "\n",
    "*Ex.\n",
    "\n",
    "Numpy arrays have many methods and attributes.\n"
   ]
  },
  {
   "cell_type": "code",
   "execution_count": 13,
   "id": "b0059db4-0745-47be-883c-9feec42bb70d",
   "metadata": {
    "tags": []
   },
   "outputs": [
    {
     "name": "stdout",
     "output_type": "stream",
     "text": [
      "[[1 3]\n",
      " [1 5]\n",
      " [2 8]]\n"
     ]
    }
   ],
   "source": [
    "# T is an example of an attribute, it returns the transpose of array\n",
    "print(a.T)"
   ]
  },
  {
   "cell_type": "code",
   "execution_count": 14,
   "id": "1eb94ae0-673f-4169-929d-d94a2319fda5",
   "metadata": {
    "tags": []
   },
   "outputs": [
    {
     "data": {
      "text/plain": [
       "numpy.ndarray"
      ]
     },
     "execution_count": 14,
     "metadata": {},
     "output_type": "execute_result"
    }
   ],
   "source": [
    "type(a.T)"
   ]
  },
  {
   "cell_type": "code",
   "execution_count": 17,
   "id": "38f79e33-e0d9-4d15-aa75-a55a03cea766",
   "metadata": {
    "tags": []
   },
   "outputs": [
    {
     "name": "stdout",
     "output_type": "stream",
     "text": [
      "(2, 3)\n",
      "<class 'tuple'>\n"
     ]
    }
   ],
   "source": [
    "# shape another attribute that tells ust he shape of the array\n",
    "# (rows, columns) \n",
    "print(a.shape)\n",
    "\n",
    "print(type(a.shape))"
   ]
  },
  {
   "cell_type": "code",
   "execution_count": 21,
   "id": "e4c555e2-35ba-438b-87ac-cc384f8f7c56",
   "metadata": {
    "tags": []
   },
   "outputs": [
    {
     "name": "stdout",
     "output_type": "stream",
     "text": [
      "dim: 2 | type: <class 'int'>\n"
     ]
    }
   ],
   "source": [
    "# ndim is an attribute holding the number of array dimensions\n",
    "print('dim:', a.ndim, '| type:', type(a.ndim))"
   ]
  },
  {
   "cell_type": "markdown",
   "id": "e7ae7c46-fdc2-476f-8b29-596b7134564e",
   "metadata": {},
   "source": [
    "Attributes can have many different data types.\n",
    "\n",
    "*Some examples of methods:*"
   ]
  },
  {
   "cell_type": "code",
   "execution_count": 22,
   "id": "9b46df8c-6e0d-43ae-84d8-ff95d203471b",
   "metadata": {
    "tags": []
   },
   "outputs": [
    {
     "name": "stdout",
     "output_type": "stream",
     "text": [
      "[[1 1 2]\n",
      " [3 5 8]]\n"
     ]
    },
    {
     "data": {
      "text/plain": [
       "array([1, 1, 2])"
      ]
     },
     "execution_count": 22,
     "metadata": {},
     "output_type": "execute_result"
    }
   ],
   "source": [
    "# the min method returns the minimum value in the array along a specified axis \n",
    "print(a)\n",
    "a.min(axis=0)"
   ]
  },
  {
   "cell_type": "code",
   "execution_count": 23,
   "id": "41c550f9-a75b-4e67-a9ed-8f13e1bd1c5d",
   "metadata": {
    "tags": []
   },
   "outputs": [
    {
     "data": {
      "text/plain": [
       "1"
      ]
     },
     "execution_count": 23,
     "metadata": {},
     "output_type": "execute_result"
    }
   ],
   "source": [
    "# Run min method with axis\n",
    "a.min()"
   ]
  },
  {
   "cell_type": "code",
   "execution_count": 24,
   "id": "59583c4d-d651-4988-8a63-332289f79072",
   "metadata": {
    "tags": []
   },
   "outputs": [
    {
     "data": {
      "text/plain": [
       "[[1, 1, 2], [3, 5, 8]]"
      ]
     },
     "execution_count": 24,
     "metadata": {},
     "output_type": "execute_result"
    }
   ],
   "source": [
    "# method tolist() transforms array to a list\n",
    "a.tolist()"
   ]
  },
  {
   "cell_type": "code",
   "execution_count": 25,
   "id": "b88f5b30-debc-4b59-81b9-fe57f3a93ce8",
   "metadata": {
    "tags": []
   },
   "outputs": [
    {
     "name": "stdout",
     "output_type": "stream",
     "text": [
      "[[1 1 2]\n",
      " [3 5 8]]\n"
     ]
    }
   ],
   "source": [
    "print(a)"
   ]
  },
  {
   "cell_type": "code",
   "execution_count": 26,
   "id": "c7c07260-ddf5-42f3-8b87-7bdbfaccb1a9",
   "metadata": {
    "tags": []
   },
   "outputs": [],
   "source": [
    "b = a.tolist()"
   ]
  },
  {
   "cell_type": "code",
   "execution_count": 27,
   "id": "5229d18a-a968-43fe-8547-058cc0b1dfc5",
   "metadata": {
    "tags": []
   },
   "outputs": [
    {
     "name": "stdout",
     "output_type": "stream",
     "text": [
      "[[1, 1, 2], [3, 5, 8]]\n"
     ]
    }
   ],
   "source": [
    "print(b)"
   ]
  },
  {
   "cell_type": "markdown",
   "id": "29e916ab-e7fb-476c-b4f8-bc2a03f21033",
   "metadata": {},
   "source": [
    "# Exercise"
   ]
  },
  {
   "cell_type": "markdown",
   "id": "de40e15c-7bb3-4654-8e75-77fcd0af1888",
   "metadata": {},
   "source": [
    "1. Read the print function help. What is the type of argument sep ? is this a default or non-default argument? why?\n",
    "\n",
    "*answer: sep is a parameter for the separator it is an optional parameter with space as default, change by setting sep = 'desired parameter'*\n"
   ]
  },
  {
   "cell_type": "code",
   "execution_count": 28,
   "id": "b0489be8-c464-4eb3-adbf-1b65014ec1f7",
   "metadata": {
    "tags": []
   },
   "outputs": [
    {
     "data": {
      "text/plain": [
       "\u001b[0;31mDocstring:\u001b[0m\n",
       "print(value, ..., sep=' ', end='\\n', file=sys.stdout, flush=False)\n",
       "\n",
       "Prints the values to a stream, or to sys.stdout by default.\n",
       "Optional keyword arguments:\n",
       "file:  a file-like object (stream); defaults to the current sys.stdout.\n",
       "sep:   string inserted between values, default a space.\n",
       "end:   string appended after the last value, default a newline.\n",
       "flush: whether to forcibly flush the stream.\n",
       "\u001b[0;31mType:\u001b[0m      builtin_function_or_method\n"
      ]
     },
     "metadata": {},
     "output_type": "display_data"
    }
   ],
   "source": [
    "?print"
   ]
  },
  {
   "cell_type": "markdown",
   "id": "8c893caf-3acc-41da-9ab1-a9c0d6fca591",
   "metadata": {},
   "source": [
    "2. Create two new variables, one with the integer value 77 and another one with the string 99"
   ]
  },
  {
   "cell_type": "markdown",
   "id": "8aa67024-a571-4581-a023-f4c155a5847c",
   "metadata": {},
   "source": [
    "3. Use your variables to print 77%99%77 by changing hte value of one of the default arguments in `print`"
   ]
  },
  {
   "cell_type": "code",
   "execution_count": 29,
   "id": "affd0c55-b3ac-4433-86ad-e6edaf9ca399",
   "metadata": {
    "tags": []
   },
   "outputs": [
    {
     "name": "stdout",
     "output_type": "stream",
     "text": [
      "77%99\n"
     ]
    }
   ],
   "source": [
    "var77 = 77\n",
    "var99 = '99'\n",
    "print(var77, var99, sep = '%')\n"
   ]
  },
  {
   "cell_type": "code",
   "execution_count": null,
   "id": "967d76e1-aa1e-4102-89de-3e4d6b174169",
   "metadata": {},
   "outputs": [],
   "source": []
  }
 ],
 "metadata": {
  "kernelspec": {
   "display_name": "Python 3 (ipykernel)",
   "language": "python",
   "name": "python3"
  },
  "language_info": {
   "codemirror_mode": {
    "name": "ipython",
    "version": 3
   },
   "file_extension": ".py",
   "mimetype": "text/x-python",
   "name": "python",
   "nbconvert_exporter": "python",
   "pygments_lexer": "ipython3",
   "version": "3.7.13"
  }
 },
 "nbformat": 4,
 "nbformat_minor": 5
}
