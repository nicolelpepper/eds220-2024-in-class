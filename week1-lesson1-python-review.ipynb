{
 "cells": [
  {
   "cell_type": "markdown",
   "id": "5573aca3-cd02-4341-a604-4a60bb221087",
   "metadata": {},
   "source": [
    "# Python review\n",
    "\n",
    "Short review about some core conepts in Python exemplified by objects in the Numpy library\n",
    "\n",
    "Goals: \n",
    "- recap basic Python vocab\n",
    "- practice markdown syntax\n",
    "\n",
    "## Libraries and packages:\n",
    "\n",
    "**library:** is a collection of code that we can use to perform specific tasks in our programs. It can be a single file or multiple files.\n",
    "\n",
    "**NumPy:** \n",
    "- core library for numerical computing in Python\n",
    "- many of the libraries use NumPy arrays as their building blocks\n",
    "- computations on NumPy objects are optimized for speed and memory usage\n",
    "\n",
    "\n",
    "Let's import NumPy with its **standard abbreviation** `np`:\n",
    "import numpy as np\n",
    "\n",
    "(esc + press M twice --> convert code cell to markdown)\n",
    "\n",
    "## Variables \n",
    "** variable:** a name we "
   ]
  },
  {
   "cell_type": "code",
   "execution_count": null,
   "id": "e4c6597b-de60-42c7-b776-246cd76b8301",
   "metadata": {},
   "outputs": [],
   "source": []
  },
  {
   "cell_type": "code",
   "execution_count": 1,
   "id": "a09f67d4-4373-49cb-b72b-e4059e6ca5db",
   "metadata": {
    "tags": []
   },
   "outputs": [],
   "source": [
    "import numpy as np\n",
    "\n",
    "# Assign a small array to a variable \n",
    "a = np.array([ [1,1,2], [3,5,8] ])"
   ]
  },
  {
   "cell_type": "markdown",
   "id": "d1a91557-38cb-4081-8d8c-253b8cf6e824",
   "metadata": {},
   "source": [
    "To view a variables value from our Jupyter notebook:"
   ]
  },
  {
   "cell_type": "code",
   "execution_count": 2,
   "id": "1b75e81a-4c59-406d-aeee-d1e2f95102c7",
   "metadata": {
    "tags": []
   },
   "outputs": [
    {
     "data": {
      "text/plain": [
       "array([[1, 1, 2],\n",
       "       [3, 5, 8]])"
      ]
     },
     "execution_count": 2,
     "metadata": {},
     "output_type": "execute_result"
    }
   ],
   "source": [
    "# Run a cell with variable name to show value\n",
    "a"
   ]
  },
  {
   "cell_type": "code",
   "execution_count": 3,
   "id": "d10dc055-db1a-464b-b653-9708a32d68b3",
   "metadata": {
    "tags": []
   },
   "outputs": [
    {
     "name": "stdout",
     "output_type": "stream",
     "text": [
      "[[1 1 2]\n",
      " [3 5 8]]\n"
     ]
    }
   ],
   "source": [
    "# Use `print` function to print the value\n",
    "print(a)"
   ]
  },
  {
   "cell_type": "code",
   "execution_count": null,
   "id": "7397d5e1-c1d5-44f8-bdfe-b337b1332067",
   "metadata": {},
   "outputs": [],
   "source": []
  }
 ],
 "metadata": {
  "kernelspec": {
   "display_name": "Python 3 (ipykernel)",
   "language": "python",
   "name": "python3"
  },
  "language_info": {
   "codemirror_mode": {
    "name": "ipython",
    "version": 3
   },
   "file_extension": ".py",
   "mimetype": "text/x-python",
   "name": "python",
   "nbconvert_exporter": "python",
   "pygments_lexer": "ipython3",
   "version": "3.7.13"
  }
 },
 "nbformat": 4,
 "nbformat_minor": 5
}
