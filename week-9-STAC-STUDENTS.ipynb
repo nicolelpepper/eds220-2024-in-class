{
 "cells": [
  {
   "cell_type": "markdown",
   "metadata": {},
   "source": [
    "# 15 STAC specification\n",
    "\n",
    "The **SpatioTemporal Asset Catalog (STAC)** is an emerging open standard for geospatial data that aims to increase the interoperability of geospatial data, particularly satellite imagery. \n",
    "[Many major data archives](https://stacspec.org/en/about/datasets/) now follow the STAC specification.\n",
    "\n",
    "In this lesson we'll be working with the [Microsoft's Planetary Computer (MPC)](https://planetarycomputer.microsoft.com) STAC API. \n",
    "In this lesson we will learn about the main components of a STAC catalog and how to search for data using the MPC's STAC API. \n",
    "\n",
    "## MPC Catalog \n",
    "First, load the necessary packages:"
   ]
  },
  {
   "cell_type": "code",
   "execution_count": 1,
   "metadata": {
    "tags": []
   },
   "outputs": [],
   "source": [
    "# import libraries\n",
    "\n",
    "import numpy as np\n",
    "import matplotlib.pyplot as plt\n",
    "import geopandas as gpd\n",
    "import rioxarray as rioxr\n",
    "from pystac_client import Client # to access STAC catalogs\n",
    "\n",
    "import planetary_computer # to sign items from the MPC STAC Catalog\n",
    "\n",
    "from IPython.display import Image # this is to nicely display images"
   ]
  },
  {
   "cell_type": "markdown",
   "metadata": {},
   "source": [
    "### Access\n",
    "We use the `Client` function from the `pystac_client` package to access the catalog:"
   ]
  },
  {
   "cell_type": "code",
   "execution_count": 3,
   "metadata": {
    "tags": []
   },
   "outputs": [],
   "source": [
    "# Access MPC catalog\n",
    "catalog = Client.open(\n",
    "    \"https://planetarycomputer.microsoft.com/api/stac/v1\",\n",
    "    modifier=planetary_computer.sign_inplace,\n",
    ")"
   ]
  },
  {
   "cell_type": "markdown",
   "metadata": {},
   "source": [
    "The `modifier` parameter is needed to access the data in the MPC catalog.\n",
    "\n",
    "### Catalog Exploration\n"
   ]
  },
  {
   "cell_type": "code",
   "execution_count": 4,
   "metadata": {
    "tags": []
   },
   "outputs": [
    {
     "name": "stdout",
     "output_type": "stream",
     "text": [
      "Title:  Microsoft Planetary Computer STAC API\n",
      "Description:  Searchable spatiotemporal metadata describing Earth science datasets hosted by the Microsoft Planetary Computer\n"
     ]
    }
   ],
   "source": [
    "# Explore catalog metadata\n",
    "print('Title: ', catalog.title)\n",
    "print('Description: ', catalog.description)"
   ]
  },
  {
   "cell_type": "markdown",
   "metadata": {},
   "source": [
    "We can access its collections by using the `get_collections()` method:"
   ]
  },
  {
   "cell_type": "code",
   "execution_count": 5,
   "metadata": {
    "tags": []
   },
   "outputs": [
    {
     "data": {
      "text/plain": [
       "<generator object Client.get_collections at 0x7f91bba9b560>"
      ]
     },
     "execution_count": 5,
     "metadata": {},
     "output_type": "execute_result"
    }
   ],
   "source": [
    "catalog.get_collections()"
   ]
  },
  {
   "cell_type": "markdown",
   "metadata": {},
   "source": [
    "The output of `get_collections()` is a **generator**:\n",
    "    \n",
    "    - a special kind of lazy object in Python and you can loop over it as in a list\n",
    "    - a list of items that dont exist in memory until you iterate over it or convert them to list \n",
    "    - kind of disposable, can't be reused\n",
    "    - allows for more efficient momory management\n",
    "    once the generator is iterated over completely, it cannot be reused unless recreated"
   ]
  },
  {
   "cell_type": "code",
   "execution_count": 6,
   "metadata": {
    "tags": []
   },
   "outputs": [
    {
     "name": "stdout",
     "output_type": "stream",
     "text": [
      "Number of collections:  124\n"
     ]
    }
   ],
   "source": [
    "collections = list(catalog.get_collections()) # Turn generator into a list\n",
    "\n",
    "print('Number of collections: ', len(collections))"
   ]
  },
  {
   "cell_type": "code",
   "execution_count": 7,
   "metadata": {
    "tags": []
   },
   "outputs": [
    {
     "name": "stdout",
     "output_type": "stream",
     "text": [
      "Collection IDS (first 10): \n",
      "- daymet-annual-pr\n",
      "- daymet-daily-hi\n",
      "- 3dep-seamless\n",
      "- 3dep-lidar-dsm\n",
      "- fia\n",
      "- sentinel-1-rtc\n",
      "- gridmet\n",
      "- daymet-annual-na\n",
      "- daymet-monthly-na\n",
      "- daymet-annual-hi\n"
     ]
    }
   ],
   "source": [
    "print('Collection IDS (first 10): ')\n",
    "for i in range(10):\n",
    "    print('-', collections[i].id)"
   ]
  },
  {
   "cell_type": "markdown",
   "metadata": {},
   "source": [
    "## Collection"
   ]
  },
  {
   "cell_type": "markdown",
   "metadata": {},
   "source": [
    "## Catalog search"
   ]
  },
  {
   "cell_type": "code",
   "execution_count": null,
   "metadata": {},
   "outputs": [],
   "source": [
    "# NCEAS bounding box (as a GeoJSON)\n",
    "bbox = {\n",
    "    \"type\": \"Polygon\",\n",
    "    \"coordinates\":[\n",
    "        [\n",
    "            [-119.70608227128903, 34.426300194372274],\n",
    "            [-119.70608227128903, 34.42041139020533],\n",
    "            [-119.6967885126002, 34.42041139020533],\n",
    "            [-119.6967885126002, 34.426300194372274],\n",
    "            [-119.70608227128903, 34.426300194372274]\n",
    "        ]\n",
    "    ],\n",
    "}\n"
   ]
  }
 ],
 "metadata": {
  "kernelspec": {
   "display_name": "Anaconda 3 (EDS220)",
   "language": "python",
   "name": "eds220-env"
  },
  "language_info": {
   "codemirror_mode": {
    "name": "ipython",
    "version": 3
   },
   "file_extension": ".py",
   "mimetype": "text/x-python",
   "name": "python",
   "nbconvert_exporter": "python",
   "pygments_lexer": "ipython3",
   "version": "3.11.4"
  }
 },
 "nbformat": 4,
 "nbformat_minor": 4
}
