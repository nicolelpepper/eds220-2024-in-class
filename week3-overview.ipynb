{
 "cells": [
  {
   "cell_type": "markdown",
   "id": "3b52cc61-1d88-42c5-89a6-62b043066ddd",
   "metadata": {},
   "source": [
    "Things we learned:\n",
    "- how to add a single or multiple columns to df\n",
    "- how to remove columns\n",
    "- updating individual values using .at[] or .iat[]\n",
    "- updating multiple values with conditions using numpy.select\n",
    "- updating multiple values using .loc[row-selection, column-selection]\n",
    "- avoid chained indexing df[][] to update values so that settingwithcopywarning does not come up"
   ]
  },
  {
   "cell_type": "markdown",
   "id": "799dc768-5243-46a6-84c5-1a7c518f3681",
   "metadata": {},
   "source": [
    "The `SettingWithCopyWarning` comes up because some `pandas` data is setting up a copy (not modifying the og data)\n",
    "- `view` modifying the original data\n",
    "- `copy` is a copy of the original data"
   ]
  },
  {
   "cell_type": "markdown",
   "id": "255697e6-be2a-496c-b345-41bef41e9949",
   "metadata": {},
   "source": [
    "#### Example\n",
    "\n",
    "We only want to use data from Biscoe island and, after doing some anlysis, we want to add a new column to it:\n",
    "    "
   ]
  },
  {
   "cell_type": "code",
   "execution_count": 7,
   "id": "e8c221c7-0339-4584-abe3-058ab93bf601",
   "metadata": {
    "tags": []
   },
   "outputs": [
    {
     "ename": "ModuleNotFoundError",
     "evalue": "No module named 'palmerpenguins'",
     "output_type": "error",
     "traceback": [
      "\u001b[0;31m---------------------------------------------------------------------------\u001b[0m",
      "\u001b[0;31mModuleNotFoundError\u001b[0m                       Traceback (most recent call last)",
      "\u001b[0;32m/tmp/ipykernel_1706938/2767738877.py\u001b[0m in \u001b[0;36m<module>\u001b[0;34m\u001b[0m\n\u001b[0;32m----> 1\u001b[0;31m \u001b[0;32mfrom\u001b[0m \u001b[0mpalmerpenguins\u001b[0m \u001b[0;32mimport\u001b[0m \u001b[0mload_penguins\u001b[0m\u001b[0;34m\u001b[0m\u001b[0;34m\u001b[0m\u001b[0m\n\u001b[0m\u001b[1;32m      2\u001b[0m \u001b[0;34m\u001b[0m\u001b[0m\n\u001b[1;32m      3\u001b[0m \u001b[0;31m# select penguins from biscoe\u001b[0m\u001b[0;34m\u001b[0m\u001b[0;34m\u001b[0m\u001b[0m\n\u001b[1;32m      4\u001b[0m \u001b[0mbiscoe\u001b[0m \u001b[0;34m=\u001b[0m \u001b[0mpenguins\u001b[0m\u001b[0;34m[\u001b[0m\u001b[0mpenguins\u001b[0m\u001b[0;34m.\u001b[0m\u001b[0misland\u001b[0m\u001b[0;34m==\u001b[0m\u001b[0;34m'Bisoce'\u001b[0m\u001b[0;34m]\u001b[0m\u001b[0;34m\u001b[0m\u001b[0;34m\u001b[0m\u001b[0m\n\u001b[1;32m      5\u001b[0m \u001b[0;34m\u001b[0m\u001b[0m\n",
      "\u001b[0;31mModuleNotFoundError\u001b[0m: No module named 'palmerpenguins'"
     ]
    }
   ],
   "source": [
    "# select penguins from biscoe\n",
    "biscoe = penguins[penguins.island=='Bisoce']\n",
    "\n",
    "# Other analyses....\n",
    "\n",
    "# Add a column\n",
    "biscoe['sample_column'] = 100\n",
    "\n",
    "# Setting with copy warning is asking if you mean to get a view or copy"
   ]
  },
  {
   "cell_type": "markdown",
   "id": "bd82152a-948e-4d2d-9c01-0d2f774b5673",
   "metadata": {
    "tags": []
   },
   "source": [
    "To fix this we can **take control** of the copy view situatino and explicity ask for a copy of the dataset when subsetting the data"
   ]
  },
  {
   "cell_type": "code",
   "execution_count": 6,
   "id": "7db343e7-7ac6-4d00-8553-377213ec4f95",
   "metadata": {
    "tags": []
   },
   "outputs": [
    {
     "ename": "NameError",
     "evalue": "name 'biscoe' is not defined",
     "output_type": "error",
     "traceback": [
      "\u001b[0;31m---------------------------------------------------------------------------\u001b[0m",
      "\u001b[0;31mNameError\u001b[0m                                 Traceback (most recent call last)",
      "\u001b[0;32m/tmp/ipykernel_1706938/2403309843.py\u001b[0m in \u001b[0;36m<module>\u001b[0;34m\u001b[0m\n\u001b[0;32m----> 1\u001b[0;31m \u001b[0mbiscoe\u001b[0m\u001b[0;34m.\u001b[0m\u001b[0mhead\u001b[0m\u001b[0;34m(\u001b[0m\u001b[0;34m)\u001b[0m\u001b[0;34m\u001b[0m\u001b[0;34m\u001b[0m\u001b[0m\n\u001b[0m",
      "\u001b[0;31mNameError\u001b[0m: name 'biscoe' is not defined"
     ]
    }
   ],
   "source": [
    "biscoe.head()"
   ]
  },
  {
   "cell_type": "code",
   "execution_count": null,
   "id": "4c632a18-9b34-46f2-a465-ff8290b784b2",
   "metadata": {},
   "outputs": [],
   "source": []
  }
 ],
 "metadata": {
  "kernelspec": {
   "display_name": "Anaconda 3 (Base)",
   "language": "python",
   "name": "base"
  },
  "language_info": {
   "codemirror_mode": {
    "name": "ipython",
    "version": 3
   },
   "file_extension": ".py",
   "mimetype": "text/x-python",
   "name": "python",
   "nbconvert_exporter": "python",
   "pygments_lexer": "ipython3",
   "version": "3.9.13"
  }
 },
 "nbformat": 4,
 "nbformat_minor": 5
}
